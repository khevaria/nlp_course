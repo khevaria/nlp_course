{
 "cells": [
  {
   "cell_type": "code",
   "id": "initial_id",
   "metadata": {
    "collapsed": true,
    "ExecuteTime": {
     "end_time": "2024-10-21T21:43:16.031276Z",
     "start_time": "2024-10-21T21:43:16.028616Z"
    }
   },
   "source": [
    "import nltk\n",
    "from nltk.stem.porter import PorterStemmer"
   ],
   "outputs": [],
   "execution_count": 2
  },
  {
   "metadata": {
    "ExecuteTime": {
     "end_time": "2024-10-21T21:43:21.378739Z",
     "start_time": "2024-10-21T21:43:21.375832Z"
    }
   },
   "cell_type": "code",
   "source": "p_stemmer = PorterStemmer()",
   "id": "a0767c38c748c675",
   "outputs": [],
   "execution_count": 4
  },
  {
   "metadata": {
    "ExecuteTime": {
     "end_time": "2024-10-21T21:47:05.582305Z",
     "start_time": "2024-10-21T21:47:05.578714Z"
    }
   },
   "cell_type": "code",
   "source": "words = ['run', 'runner', 'ran','runs','easily','fairly','fairness']\n",
   "id": "c2385cecac2a48b9",
   "outputs": [],
   "execution_count": 17
  },
  {
   "metadata": {
    "ExecuteTime": {
     "end_time": "2024-10-21T21:47:14.680333Z",
     "start_time": "2024-10-21T21:47:14.675269Z"
    }
   },
   "cell_type": "code",
   "source": [
    "for word in words:\n",
    "    print(word + ' --------> ' + p_stemmer.stem(word))"
   ],
   "id": "9568934af51f71b5",
   "outputs": [
    {
     "name": "stdout",
     "output_type": "stream",
     "text": [
      "run --------> run\n",
      "runner --------> runner\n",
      "ran --------> ran\n",
      "runs --------> run\n",
      "easily --------> easili\n",
      "fairly --------> fairli\n",
      "fairness --------> fair\n"
     ]
    }
   ],
   "execution_count": 19
  },
  {
   "metadata": {
    "ExecuteTime": {
     "end_time": "2024-10-21T21:45:50.691217Z",
     "start_time": "2024-10-21T21:45:50.688660Z"
    }
   },
   "cell_type": "code",
   "source": "from nltk.stem.snowball import SnowballStemmer",
   "id": "bfd46c85d11e523e",
   "outputs": [],
   "execution_count": 11
  },
  {
   "metadata": {
    "ExecuteTime": {
     "end_time": "2024-10-21T21:46:05.813240Z",
     "start_time": "2024-10-21T21:46:05.810238Z"
    }
   },
   "cell_type": "code",
   "source": "s_stemmer = SnowballStemmer(language='english')",
   "id": "64100a44b1ebe107",
   "outputs": [],
   "execution_count": 13
  },
  {
   "metadata": {
    "ExecuteTime": {
     "end_time": "2024-10-21T21:47:20.723218Z",
     "start_time": "2024-10-21T21:47:20.719907Z"
    }
   },
   "cell_type": "code",
   "source": [
    "for word in words:\n",
    "    print(word + ' --------> ' + s_stemmer.stem(word))"
   ],
   "id": "693b5fcdc0a4e363",
   "outputs": [
    {
     "name": "stdout",
     "output_type": "stream",
     "text": [
      "run --------> run\n",
      "runner --------> runner\n",
      "ran --------> ran\n",
      "runs --------> run\n",
      "easily --------> easili\n",
      "fairly --------> fair\n",
      "fairness --------> fair\n"
     ]
    }
   ],
   "execution_count": 20
  },
  {
   "metadata": {
    "ExecuteTime": {
     "end_time": "2024-10-21T21:48:19.697131Z",
     "start_time": "2024-10-21T21:48:19.694386Z"
    }
   },
   "cell_type": "code",
   "source": "words = ['generous', 'generation', 'generously','generate']",
   "id": "db35064d483a3170",
   "outputs": [],
   "execution_count": 22
  },
  {
   "metadata": {
    "ExecuteTime": {
     "end_time": "2024-10-21T21:48:21.987794Z",
     "start_time": "2024-10-21T21:48:21.984881Z"
    }
   },
   "cell_type": "code",
   "source": [
    "for word in words:\n",
    "    print(word + ' --------> ' + p_stemmer.stem(word))"
   ],
   "id": "ee85b3b540eea426",
   "outputs": [
    {
     "name": "stdout",
     "output_type": "stream",
     "text": [
      "generous --------> gener\n",
      "generation --------> gener\n",
      "generously --------> gener\n",
      "generate --------> gener\n"
     ]
    }
   ],
   "execution_count": 23
  },
  {
   "metadata": {
    "ExecuteTime": {
     "end_time": "2024-10-21T21:48:33.247058Z",
     "start_time": "2024-10-21T21:48:33.243274Z"
    }
   },
   "cell_type": "code",
   "source": [
    "for word in words:\n",
    "    print(word + ' --------> ' + s_stemmer.stem(word))"
   ],
   "id": "b28e0d2b66ad5cb3",
   "outputs": [
    {
     "name": "stdout",
     "output_type": "stream",
     "text": [
      "generous --------> generous\n",
      "generation --------> generat\n",
      "generously --------> generous\n",
      "generate --------> generat\n"
     ]
    }
   ],
   "execution_count": 24
  },
  {
   "metadata": {},
   "cell_type": "code",
   "outputs": [],
   "execution_count": null,
   "source": "",
   "id": "65bf1cf8a9f576ed"
  }
 ],
 "metadata": {
  "kernelspec": {
   "display_name": "Python 3",
   "language": "python",
   "name": "python3"
  },
  "language_info": {
   "codemirror_mode": {
    "name": "ipython",
    "version": 2
   },
   "file_extension": ".py",
   "mimetype": "text/x-python",
   "name": "python",
   "nbconvert_exporter": "python",
   "pygments_lexer": "ipython2",
   "version": "2.7.6"
  }
 },
 "nbformat": 4,
 "nbformat_minor": 5
}
