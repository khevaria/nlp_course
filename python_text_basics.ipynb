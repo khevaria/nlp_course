{
 "cells": [
  {
   "cell_type": "code",
   "id": "initial_id",
   "metadata": {
    "collapsed": true,
    "ExecuteTime": {
     "end_time": "2024-10-15T17:46:25.452384Z",
     "start_time": "2024-10-15T17:46:25.449378Z"
    }
   },
   "source": "person = \"Jose\"",
   "outputs": [],
   "execution_count": 2
  },
  {
   "metadata": {
    "ExecuteTime": {
     "end_time": "2024-10-15T17:46:45.137533Z",
     "start_time": "2024-10-15T17:46:45.134445Z"
    }
   },
   "cell_type": "code",
   "source": "print(\"My Name is {}\".format(person))",
   "id": "36bc2584b46e16fc",
   "outputs": [
    {
     "name": "stdout",
     "output_type": "stream",
     "text": [
      "My Name is Jose\n"
     ]
    }
   ],
   "execution_count": 3
  },
  {
   "metadata": {
    "ExecuteTime": {
     "end_time": "2024-10-15T17:47:52.166155Z",
     "start_time": "2024-10-15T17:47:52.163538Z"
    }
   },
   "cell_type": "code",
   "source": "print(f\"My name is {person}\")",
   "id": "ba9b5484063906bd",
   "outputs": [
    {
     "name": "stdout",
     "output_type": "stream",
     "text": [
      "My name is Jose\n"
     ]
    }
   ],
   "execution_count": 9
  },
  {
   "metadata": {
    "ExecuteTime": {
     "end_time": "2024-10-15T17:48:21.271354Z",
     "start_time": "2024-10-15T17:48:21.268612Z"
    }
   },
   "cell_type": "code",
   "source": "d = {'a':123,'b':456}",
   "id": "b2e73a792f2827f0",
   "outputs": [],
   "execution_count": 11
  },
  {
   "metadata": {
    "ExecuteTime": {
     "end_time": "2024-10-15T17:49:10.262081Z",
     "start_time": "2024-10-15T17:49:10.259449Z"
    }
   },
   "cell_type": "code",
   "source": "print(f\"my number is {d['a']}\")",
   "id": "8cb98a670c5c7d76",
   "outputs": [
    {
     "name": "stdout",
     "output_type": "stream",
     "text": [
      "my number is 123\n"
     ]
    }
   ],
   "execution_count": 14
  },
  {
   "metadata": {
    "ExecuteTime": {
     "end_time": "2024-10-15T17:50:04.430572Z",
     "start_time": "2024-10-15T17:50:04.427818Z"
    }
   },
   "cell_type": "code",
   "source": "library = [('Author', 'Topic', 'Pages'), ('Twain', 'Rafting', 601), ('Feynman', 'Physics', 95), ('Hamilton', 'Mythology', 144)]",
   "id": "e17e3a9ea0842186",
   "outputs": [],
   "execution_count": 16
  },
  {
   "metadata": {
    "ExecuteTime": {
     "end_time": "2024-10-15T17:50:14.250319Z",
     "start_time": "2024-10-15T17:50:14.246567Z"
    }
   },
   "cell_type": "code",
   "source": "library",
   "id": "d658da97c2cf44b2",
   "outputs": [
    {
     "data": {
      "text/plain": [
       "[('Author', 'Topic', 'Pages'),\n",
       " ('Twain', 'Rafting', 601),\n",
       " ('Feynman', 'Physics', 95),\n",
       " ('Hamilton', 'Mythology', 144)]"
      ]
     },
     "execution_count": 19,
     "metadata": {},
     "output_type": "execute_result"
    }
   ],
   "execution_count": 19
  },
  {
   "metadata": {
    "ExecuteTime": {
     "end_time": "2024-10-15T17:50:29.359034Z",
     "start_time": "2024-10-15T17:50:29.356170Z"
    }
   },
   "cell_type": "code",
   "source": [
    "for book in library:\n",
    "    print(book)"
   ],
   "id": "d4b594969f9e59d9",
   "outputs": [
    {
     "name": "stdout",
     "output_type": "stream",
     "text": [
      "('Author', 'Topic', 'Pages')\n",
      "('Twain', 'Rafting', 601)\n",
      "('Feynman', 'Physics', 95)\n",
      "('Hamilton', 'Mythology', 144)\n"
     ]
    }
   ],
   "execution_count": 21
  },
  {
   "metadata": {
    "ExecuteTime": {
     "end_time": "2024-10-15T17:50:51.926268Z",
     "start_time": "2024-10-15T17:50:51.920686Z"
    }
   },
   "cell_type": "code",
   "source": [
    "for book in library:\n",
    "    print(f\"Author is {book[0]}\")"
   ],
   "id": "326ba55e40d8aea0",
   "outputs": [
    {
     "name": "stdout",
     "output_type": "stream",
     "text": [
      "Author is Author\n",
      "Author is Twain\n",
      "Author is Feynman\n",
      "Author is Hamilton\n"
     ]
    }
   ],
   "execution_count": 23
  },
  {
   "metadata": {
    "ExecuteTime": {
     "end_time": "2024-10-15T17:55:12.794221Z",
     "start_time": "2024-10-15T17:55:12.791465Z"
    }
   },
   "cell_type": "code",
   "source": [
    "for author,topic,pages in library:\n",
    "    print(f\"{author:{10}} {topic:{30}} {pages:>{10}}\")"
   ],
   "id": "1a2b066026de0ae5",
   "outputs": [
    {
     "name": "stdout",
     "output_type": "stream",
     "text": [
      "Author     Topic                               Pages\n",
      "Twain      Rafting                               601\n",
      "Feynman    Physics                                95\n",
      "Hamilton   Mythology                             144\n"
     ]
    }
   ],
   "execution_count": 33
  },
  {
   "metadata": {
    "ExecuteTime": {
     "end_time": "2024-10-15T17:55:24.801360Z",
     "start_time": "2024-10-15T17:55:24.798093Z"
    }
   },
   "cell_type": "code",
   "source": "from datetime import datetime",
   "id": "39146d11f6253a40",
   "outputs": [],
   "execution_count": 35
  },
  {
   "metadata": {
    "ExecuteTime": {
     "end_time": "2024-10-15T17:55:48.693235Z",
     "start_time": "2024-10-15T17:55:48.690207Z"
    }
   },
   "cell_type": "code",
   "source": "today = datetime(year=2024, month=10, day=15)",
   "id": "16d2985002622316",
   "outputs": [],
   "execution_count": 37
  },
  {
   "metadata": {
    "ExecuteTime": {
     "end_time": "2024-10-15T17:57:18.171678Z",
     "start_time": "2024-10-15T17:57:18.168682Z"
    }
   },
   "cell_type": "code",
   "source": [
    "today\n",
    "print(f\"Today is {today:%B %d, %Y}\")"
   ],
   "id": "20e8d7b66f231d6d",
   "outputs": [
    {
     "name": "stdout",
     "output_type": "stream",
     "text": [
      "Today is October 15, 2024\n"
     ]
    }
   ],
   "execution_count": 44
  },
  {
   "metadata": {
    "ExecuteTime": {
     "end_time": "2024-10-15T18:06:04.916163Z",
     "start_time": "2024-10-15T18:06:04.911325Z"
    }
   },
   "cell_type": "code",
   "source": [
    "%%writefile test.txt\n",
    "Hello, This is a quick test file. \n",
    "This is the second line in the file."
   ],
   "id": "4087da8a6f6aeec9",
   "outputs": [
    {
     "name": "stdout",
     "output_type": "stream",
     "text": [
      "Writing test.txt\n"
     ]
    }
   ],
   "execution_count": 46
  },
  {
   "metadata": {
    "ExecuteTime": {
     "end_time": "2024-10-15T18:07:46.637519Z",
     "start_time": "2024-10-15T18:07:46.635012Z"
    }
   },
   "cell_type": "code",
   "source": "myfile  = open(\"test.txt\")",
   "id": "6626a7c7b2cbbd75",
   "outputs": [],
   "execution_count": 48
  },
  {
   "metadata": {
    "ExecuteTime": {
     "end_time": "2024-10-15T18:10:20.977293Z",
     "start_time": "2024-10-15T18:10:20.972657Z"
    }
   },
   "cell_type": "code",
   "source": "myfile.read()\n",
   "id": "7d3bb7d9805c02d",
   "outputs": [
    {
     "data": {
      "text/plain": [
       "''"
      ]
     },
     "execution_count": 51,
     "metadata": {},
     "output_type": "execute_result"
    }
   ],
   "execution_count": 51
  },
  {
   "metadata": {
    "ExecuteTime": {
     "end_time": "2024-10-15T18:11:27.636378Z",
     "start_time": "2024-10-15T18:11:27.632562Z"
    }
   },
   "cell_type": "code",
   "source": "myfile.seek(0)",
   "id": "afc4b57fd90e79c5",
   "outputs": [
    {
     "data": {
      "text/plain": [
       "0"
      ]
     },
     "execution_count": 56,
     "metadata": {},
     "output_type": "execute_result"
    }
   ],
   "execution_count": 56
  },
  {
   "metadata": {
    "ExecuteTime": {
     "end_time": "2024-10-15T18:11:22.582070Z",
     "start_time": "2024-10-15T18:11:22.577587Z"
    }
   },
   "cell_type": "code",
   "source": [
    "myfile.read()\n",
    "\n"
   ],
   "id": "136840160bd4ab44",
   "outputs": [
    {
     "data": {
      "text/plain": [
       "'Hello, This is a quick test file. \\nThis is the second line in the file.\\n'"
      ]
     },
     "execution_count": 55,
     "metadata": {},
     "output_type": "execute_result"
    }
   ],
   "execution_count": 55
  },
  {
   "metadata": {
    "ExecuteTime": {
     "end_time": "2024-10-15T18:12:08.490175Z",
     "start_time": "2024-10-15T18:12:08.486001Z"
    }
   },
   "cell_type": "code",
   "source": [
    "myfile.seek(0)\n",
    "content = myfile.read()\n",
    "print(content)"
   ],
   "id": "e39c4718cdc6d18d",
   "outputs": [
    {
     "name": "stdout",
     "output_type": "stream",
     "text": [
      "Hello, This is a quick test file. \n",
      "This is the second line in the file.\n",
      "\n"
     ]
    }
   ],
   "execution_count": 61
  },
  {
   "metadata": {
    "ExecuteTime": {
     "end_time": "2024-10-15T18:12:16.570265Z",
     "start_time": "2024-10-15T18:12:16.565704Z"
    }
   },
   "cell_type": "code",
   "source": "content",
   "id": "2c53b4463c0da929",
   "outputs": [
    {
     "data": {
      "text/plain": [
       "'Hello, This is a quick test file. \\nThis is the second line in the file.\\n'"
      ]
     },
     "execution_count": 63,
     "metadata": {},
     "output_type": "execute_result"
    }
   ],
   "execution_count": 63
  },
  {
   "metadata": {
    "ExecuteTime": {
     "end_time": "2024-10-15T18:12:32.348361Z",
     "start_time": "2024-10-15T18:12:32.345194Z"
    }
   },
   "cell_type": "code",
   "source": "myfile.close",
   "id": "c0bf1f044f6f965",
   "outputs": [
    {
     "data": {
      "text/plain": [
       "<function TextIOWrapper.close()>"
      ]
     },
     "execution_count": 65,
     "metadata": {},
     "output_type": "execute_result"
    }
   ],
   "execution_count": 65
  },
  {
   "metadata": {
    "ExecuteTime": {
     "end_time": "2024-10-15T18:13:43.739169Z",
     "start_time": "2024-10-15T18:13:43.735512Z"
    }
   },
   "cell_type": "code",
   "source": "myfile = open(\"test.txt\")",
   "id": "fdbc21190a0a427a",
   "outputs": [],
   "execution_count": 68
  },
  {
   "metadata": {
    "ExecuteTime": {
     "end_time": "2024-10-15T18:14:11.399610Z",
     "start_time": "2024-10-15T18:14:11.395987Z"
    }
   },
   "cell_type": "code",
   "source": "myfile.readlines()",
   "id": "b82985952799de76",
   "outputs": [
    {
     "data": {
      "text/plain": [
       "[]"
      ]
     },
     "execution_count": 70,
     "metadata": {},
     "output_type": "execute_result"
    }
   ],
   "execution_count": 70
  },
  {
   "metadata": {
    "ExecuteTime": {
     "end_time": "2024-10-15T18:14:52.088455Z",
     "start_time": "2024-10-15T18:14:52.084678Z"
    }
   },
   "cell_type": "code",
   "source": "myfile.seek(0)",
   "id": "99facf6a29bf0fe6",
   "outputs": [
    {
     "data": {
      "text/plain": [
       "0"
      ]
     },
     "execution_count": 76,
     "metadata": {},
     "output_type": "execute_result"
    }
   ],
   "execution_count": 76
  },
  {
   "metadata": {
    "ExecuteTime": {
     "end_time": "2024-10-15T18:14:52.942355Z",
     "start_time": "2024-10-15T18:14:52.939491Z"
    }
   },
   "cell_type": "code",
   "source": "mylines = myfile.readlines()",
   "id": "170399e8b56f551b",
   "outputs": [],
   "execution_count": 77
  },
  {
   "metadata": {
    "ExecuteTime": {
     "end_time": "2024-10-15T18:15:20.588235Z",
     "start_time": "2024-10-15T18:15:20.585085Z"
    }
   },
   "cell_type": "code",
   "source": [
    "for line in mylines:\n",
    "    print(line.split()[0])"
   ],
   "id": "9d1afd648d013e35",
   "outputs": [
    {
     "name": "stdout",
     "output_type": "stream",
     "text": [
      "Hello,\n",
      "This\n"
     ]
    }
   ],
   "execution_count": 80
  },
  {
   "metadata": {
    "ExecuteTime": {
     "end_time": "2024-10-15T18:17:11.961339Z",
     "start_time": "2024-10-15T18:17:11.958660Z"
    }
   },
   "cell_type": "code",
   "source": [
    "myfile.close()\n",
    "myfile = open(\"test.txt\",'w+')"
   ],
   "id": "1ca5ea0ba8d393d6",
   "outputs": [],
   "execution_count": 83
  },
  {
   "metadata": {
    "ExecuteTime": {
     "end_time": "2024-10-15T18:17:45.775521Z",
     "start_time": "2024-10-15T18:17:45.772419Z"
    }
   },
   "cell_type": "code",
   "source": "myfile.read()",
   "id": "7c61f0bba0225089",
   "outputs": [
    {
     "data": {
      "text/plain": [
       "''"
      ]
     },
     "execution_count": 85,
     "metadata": {},
     "output_type": "execute_result"
    }
   ],
   "execution_count": 85
  },
  {
   "metadata": {
    "ExecuteTime": {
     "end_time": "2024-10-15T18:18:01.968703Z",
     "start_time": "2024-10-15T18:18:01.963945Z"
    }
   },
   "cell_type": "code",
   "source": "myfile.write('My Brand new text')",
   "id": "ecefde997c9c7137",
   "outputs": [
    {
     "data": {
      "text/plain": [
       "17"
      ]
     },
     "execution_count": 87,
     "metadata": {},
     "output_type": "execute_result"
    }
   ],
   "execution_count": 87
  },
  {
   "metadata": {
    "ExecuteTime": {
     "end_time": "2024-10-15T18:18:26.671429Z",
     "start_time": "2024-10-15T18:18:26.668277Z"
    }
   },
   "cell_type": "code",
   "source": "myfile.read()",
   "id": "30cde21fcd4a515e",
   "outputs": [
    {
     "data": {
      "text/plain": [
       "''"
      ]
     },
     "execution_count": 90,
     "metadata": {},
     "output_type": "execute_result"
    }
   ],
   "execution_count": 90
  },
  {
   "metadata": {
    "ExecuteTime": {
     "end_time": "2024-10-15T18:18:56.476211Z",
     "start_time": "2024-10-15T18:18:56.471928Z"
    }
   },
   "cell_type": "code",
   "source": [
    "myfile.seek(0)\n",
    "myfile.read()"
   ],
   "id": "8094cee907867f4e",
   "outputs": [
    {
     "data": {
      "text/plain": [
       "'My Brand new text.'"
      ]
     },
     "execution_count": 93,
     "metadata": {},
     "output_type": "execute_result"
    }
   ],
   "execution_count": 93
  },
  {
   "metadata": {
    "ExecuteTime": {
     "end_time": "2024-10-15T18:19:27.865883Z",
     "start_time": "2024-10-15T18:19:27.862299Z"
    }
   },
   "cell_type": "code",
   "source": "myfile.close()",
   "id": "d73c260061460a18",
   "outputs": [],
   "execution_count": 94
  },
  {
   "metadata": {
    "ExecuteTime": {
     "end_time": "2024-10-15T18:20:00.088588Z",
     "start_time": "2024-10-15T18:20:00.085048Z"
    }
   },
   "cell_type": "code",
   "source": "myfile = open('test.txt','a+')",
   "id": "9187eca4c25b3f",
   "outputs": [],
   "execution_count": 95
  },
  {
   "metadata": {
    "ExecuteTime": {
     "end_time": "2024-10-15T18:23:32.405813Z",
     "start_time": "2024-10-15T18:23:32.400977Z"
    }
   },
   "cell_type": "code",
   "source": [
    "myfile.seek(0)\n",
    "myfile.read()"
   ],
   "id": "edfe5f58030c66f",
   "outputs": [
    {
     "data": {
      "text/plain": [
       "'My Brand new text.This is an added line because i used A+ modeThis is an added line because i used A+ mode\\nThis is just a test line '"
      ]
     },
     "execution_count": 107,
     "metadata": {},
     "output_type": "execute_result"
    }
   ],
   "execution_count": 107
  },
  {
   "metadata": {
    "ExecuteTime": {
     "end_time": "2024-10-15T18:23:45.416512Z",
     "start_time": "2024-10-15T18:23:45.412655Z"
    }
   },
   "cell_type": "code",
   "source": "myfile.seek(0)",
   "id": "b9e189e44704972d",
   "outputs": [
    {
     "data": {
      "text/plain": [
       "0"
      ]
     },
     "execution_count": 110,
     "metadata": {},
     "output_type": "execute_result"
    }
   ],
   "execution_count": 110
  },
  {
   "metadata": {
    "ExecuteTime": {
     "end_time": "2024-10-15T18:23:29.982494Z",
     "start_time": "2024-10-15T18:23:29.977987Z"
    }
   },
   "cell_type": "code",
   "source": "myfile.write(\"\\nThis is just a test line \")",
   "id": "ae0849c6bd82bfd5",
   "outputs": [
    {
     "data": {
      "text/plain": [
       "26"
      ]
     },
     "execution_count": 106,
     "metadata": {},
     "output_type": "execute_result"
    }
   ],
   "execution_count": 106
  },
  {
   "metadata": {
    "ExecuteTime": {
     "end_time": "2024-10-15T18:23:42.176046Z",
     "start_time": "2024-10-15T18:23:42.170901Z"
    }
   },
   "cell_type": "code",
   "source": "myfile.read()",
   "id": "c196b0078449e538",
   "outputs": [
    {
     "data": {
      "text/plain": [
       "''"
      ]
     },
     "execution_count": 109,
     "metadata": {},
     "output_type": "execute_result"
    }
   ],
   "execution_count": 109
  },
  {
   "metadata": {
    "ExecuteTime": {
     "end_time": "2024-10-15T18:29:23.934104Z",
     "start_time": "2024-10-15T18:29:23.929043Z"
    }
   },
   "cell_type": "code",
   "source": "pwd",
   "id": "9f154ff67d4e8217",
   "outputs": [
    {
     "data": {
      "text/plain": [
       "'C:\\\\Users\\\\kheva\\\\PycharmProjects\\\\nlp_udemy'"
      ]
     },
     "execution_count": 111,
     "metadata": {},
     "output_type": "execute_result"
    }
   ],
   "execution_count": 111
  },
  {
   "metadata": {
    "ExecuteTime": {
     "end_time": "2024-10-15T18:31:01.012449Z",
     "start_time": "2024-10-15T18:31:01.009810Z"
    }
   },
   "cell_type": "code",
   "source": "import PyPDF2",
   "id": "8fbc83778da2b08f",
   "outputs": [],
   "execution_count": 117
  },
  {
   "metadata": {
    "ExecuteTime": {
     "end_time": "2024-10-15T18:32:55.529Z",
     "start_time": "2024-10-15T18:32:55.526617Z"
    }
   },
   "cell_type": "code",
   "source": "pdf = open('resources/python_text_basics/US_Declaration.pdf','rb')",
   "id": "96df6970b634a91a",
   "outputs": [],
   "execution_count": 120
  },
  {
   "metadata": {
    "ExecuteTime": {
     "end_time": "2024-10-15T18:33:23.697Z",
     "start_time": "2024-10-15T18:33:23.692945Z"
    }
   },
   "cell_type": "code",
   "source": "pdfReader = PyPDF2.PdfReader(pdf)",
   "id": "f4fa59a1f23f3e0c",
   "outputs": [],
   "execution_count": 123
  },
  {
   "metadata": {
    "ExecuteTime": {
     "end_time": "2024-10-15T18:34:20.482932Z",
     "start_time": "2024-10-15T18:34:20.479723Z"
    }
   },
   "cell_type": "code",
   "source": "len(pdfReader.pages)",
   "id": "93bd602963865ed0",
   "outputs": [
    {
     "data": {
      "text/plain": [
       "5"
      ]
     },
     "execution_count": 126,
     "metadata": {},
     "output_type": "execute_result"
    }
   ],
   "execution_count": 126
  },
  {
   "metadata": {
    "ExecuteTime": {
     "end_time": "2024-10-15T18:34:36.884051Z",
     "start_time": "2024-10-15T18:34:36.881500Z"
    }
   },
   "cell_type": "code",
   "source": "page_one = pdfReader.pages[0]",
   "id": "66db578626ca8e6c",
   "outputs": [],
   "execution_count": 128
  },
  {
   "metadata": {
    "ExecuteTime": {
     "end_time": "2024-10-15T18:35:17.192629Z",
     "start_time": "2024-10-15T18:35:17.185285Z"
    }
   },
   "cell_type": "code",
   "source": "print(page_one.extract_text())",
   "id": "6d9293814c3b0455",
   "outputs": [
    {
     "name": "stdout",
     "output_type": "stream",
     "text": [
      "Declaration of Independence\n",
      "IN CONGRESS, July 4, 1776.  \n",
      "The unanimous Declaration of the thirteen united States of America,  \n",
      "When in the Course of human events, it becomes necessary for one people to dissolve thepolitical bands which have connected them with another, and to assume among the powers of theearth, the separate and equal station to which the Laws of Nature and of Nature's God entitlethem, a decent respect to the opinions of mankind requires that they should declare the causeswhich impel them to the separation. We hold these truths to be self-evident, that all men are created equal, that they are endowed bytheir Creator with certain unalienable Rights, that among these are Life, Liberty and the pursuit\n",
      "of Happiness.— \u0014That to secure these rights, Governments are instituted among Men, derivingtheir just powers from the consent of the governed,—  \u0014That whenever any Form of Government\n",
      "becomes destructive of these ends, it is the Right of the People to alter or to abolish it, and to\n",
      "institute new Government, laying its foundation on such principles and organizing its powers in\n",
      "such form, as to them shall seem most likely to effect their Safety and Happiness. Prudence,indeed, will dictate that Governments long established should not be changed for light andtransient causes; and accordingly all experience hath shewn, that mankind are more disposed to\n",
      "suffer, while evils are sufferable, than to right themselves by abolishing the forms to which theyare accustomed. But when a long train of abuses and usurpations, pursuing invariably the same\n",
      "Object evinces a design to reduce them under absolute Despotism, it is their right, it is their duty,\n",
      "to throw off such Government, and to provide new Guards for their future securit y.— \u0014Such has\n",
      "been the patient sufferance of these Colonies; and such is now the necessity which constrainsthem to alter their former Systems of Government. The history of the present King of GreatBritain is a history of repeated injuries and usurpations, all having in direct object the\n",
      "establishment of an absolute Tyranny over these States. To prove this, let Facts be submitted to a\n",
      "candid world. \n",
      "He has refused his Assent to Laws, the most wholesome and necessary for the\n",
      "public good.He has forbidden his Governors to pass Laws of immediate and pressingimportance, unless suspended in their operation till his Assent should be obtained;and when so suspended, he has utterly neglected to attend to them.He has refused to pass other Laws for the accommodation of large districts of\n",
      "people, unless those people would relinquish the right of Representation in theLegislature, a right inestimable to them and formidable to tyrants only. He has called together legislative bodies at places unusual, uncomfortable, and distantfrom the depository of their public Records, for the sole purpose of fatiguing them into\n",
      "compliance with his measures.\n"
     ]
    }
   ],
   "execution_count": 133
  },
  {
   "metadata": {
    "ExecuteTime": {
     "end_time": "2024-10-15T18:35:31.254272Z",
     "start_time": "2024-10-15T18:35:31.249747Z"
    }
   },
   "cell_type": "code",
   "source": "pdf.close",
   "id": "aedeea0f2973aea0",
   "outputs": [
    {
     "data": {
      "text/plain": [
       "<function BufferedReader.close()>"
      ]
     },
     "execution_count": 135,
     "metadata": {},
     "output_type": "execute_result"
    }
   ],
   "execution_count": 135
  },
  {
   "metadata": {
    "ExecuteTime": {
     "end_time": "2024-10-15T20:02:57.164549Z",
     "start_time": "2024-10-15T20:02:57.162073Z"
    }
   },
   "cell_type": "code",
   "source": "import re",
   "id": "d492386c6ee01a91",
   "outputs": [],
   "execution_count": 137
  },
  {
   "metadata": {
    "ExecuteTime": {
     "end_time": "2024-10-15T20:03:29.394193Z",
     "start_time": "2024-10-15T20:03:29.391134Z"
    }
   },
   "cell_type": "code",
   "source": "text = \"The phone number of the agent is 409-234-4455, Call soon!\"\n",
   "id": "6c700afe4c3a6a42",
   "outputs": [],
   "execution_count": 139
  },
  {
   "metadata": {
    "ExecuteTime": {
     "end_time": "2024-10-15T20:03:44.966727Z",
     "start_time": "2024-10-15T20:03:44.962769Z"
    }
   },
   "cell_type": "code",
   "source": "\"409-234-4455\" in text",
   "id": "a83ce79ac9a1c7d2",
   "outputs": [
    {
     "data": {
      "text/plain": [
       "True"
      ]
     },
     "execution_count": 141,
     "metadata": {},
     "output_type": "execute_result"
    }
   ],
   "execution_count": 141
  },
  {
   "metadata": {
    "ExecuteTime": {
     "end_time": "2024-10-15T20:04:16.303545Z",
     "start_time": "2024-10-15T20:04:16.299422Z"
    }
   },
   "cell_type": "code",
   "source": [
    "pattern = \"phone\"\n",
    "re.search(pattern, text)"
   ],
   "id": "f2a5bbe71aae325a",
   "outputs": [
    {
     "data": {
      "text/plain": [
       "<re.Match object; span=(4, 9), match='phone'>"
      ]
     },
     "execution_count": 143,
     "metadata": {},
     "output_type": "execute_result"
    }
   ],
   "execution_count": 143
  },
  {
   "metadata": {
    "ExecuteTime": {
     "end_time": "2024-10-15T20:04:53.463077Z",
     "start_time": "2024-10-15T20:04:53.459702Z"
    }
   },
   "cell_type": "code",
   "source": [
    "my_match = re.search(pattern, text)\n",
    "my_match.span()"
   ],
   "id": "ebcc724a6028a998",
   "outputs": [
    {
     "data": {
      "text/plain": [
       "(4, 9)"
      ]
     },
     "execution_count": 146,
     "metadata": {},
     "output_type": "execute_result"
    }
   ],
   "execution_count": 146
  },
  {
   "metadata": {
    "ExecuteTime": {
     "end_time": "2024-10-15T20:05:35.782484Z",
     "start_time": "2024-10-15T20:05:35.779648Z"
    }
   },
   "cell_type": "code",
   "source": "text = \"my phone is a new phone\"",
   "id": "2b9f3ad07cbbb632",
   "outputs": [],
   "execution_count": 149
  },
  {
   "metadata": {
    "ExecuteTime": {
     "end_time": "2024-10-15T20:05:44.141166Z",
     "start_time": "2024-10-15T20:05:44.138984Z"
    }
   },
   "cell_type": "code",
   "source": "match = re.search(pattern, text)",
   "id": "d440d3def0c6f2c3",
   "outputs": [],
   "execution_count": 151
  },
  {
   "metadata": {
    "ExecuteTime": {
     "end_time": "2024-10-15T20:06:00.118555Z",
     "start_time": "2024-10-15T20:06:00.113582Z"
    }
   },
   "cell_type": "code",
   "source": "match.span()",
   "id": "6673ac0ebd5613af",
   "outputs": [
    {
     "data": {
      "text/plain": [
       "(3, 8)"
      ]
     },
     "execution_count": 153,
     "metadata": {},
     "output_type": "execute_result"
    }
   ],
   "execution_count": 153
  },
  {
   "metadata": {
    "ExecuteTime": {
     "end_time": "2024-10-15T20:06:40.559872Z",
     "start_time": "2024-10-15T20:06:40.556337Z"
    }
   },
   "cell_type": "code",
   "source": "re.findall(pattern, text)",
   "id": "6a4153078459e8cd",
   "outputs": [
    {
     "data": {
      "text/plain": [
       "['phone', 'phone']"
      ]
     },
     "execution_count": 155,
     "metadata": {},
     "output_type": "execute_result"
    }
   ],
   "execution_count": 155
  },
  {
   "metadata": {},
   "cell_type": "code",
   "outputs": [],
   "execution_count": null,
   "source": "",
   "id": "a6a0df7b28695977"
  }
 ],
 "metadata": {
  "kernelspec": {
   "display_name": "Python 3",
   "language": "python",
   "name": "python3"
  },
  "language_info": {
   "codemirror_mode": {
    "name": "ipython",
    "version": 2
   },
   "file_extension": ".py",
   "mimetype": "text/x-python",
   "name": "python",
   "nbconvert_exporter": "python",
   "pygments_lexer": "ipython2",
   "version": "2.7.6"
  }
 },
 "nbformat": 4,
 "nbformat_minor": 5
}
