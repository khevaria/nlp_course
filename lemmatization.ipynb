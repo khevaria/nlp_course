{
 "cells": [
  {
   "cell_type": "code",
   "id": "initial_id",
   "metadata": {
    "collapsed": true,
    "ExecuteTime": {
     "end_time": "2024-10-21T21:51:06.946994Z",
     "start_time": "2024-10-21T21:51:06.944427Z"
    }
   },
   "source": "import spacy",
   "outputs": [],
   "execution_count": 2
  },
  {
   "metadata": {
    "ExecuteTime": {
     "end_time": "2024-10-21T21:51:22.527335Z",
     "start_time": "2024-10-21T21:51:19.450949Z"
    }
   },
   "cell_type": "code",
   "source": "nlp = spacy.load('en_core_web_lg')",
   "id": "1e9e9886aa0d3800",
   "outputs": [],
   "execution_count": 4
  },
  {
   "metadata": {
    "ExecuteTime": {
     "end_time": "2024-10-21T21:52:03.198334Z",
     "start_time": "2024-10-21T21:52:03.189247Z"
    }
   },
   "cell_type": "code",
   "source": "doc1= nlp(u'I am a runner running in a race because I love to run since I ran today.')",
   "id": "503de07f45c45409",
   "outputs": [],
   "execution_count": 6
  },
  {
   "metadata": {
    "ExecuteTime": {
     "end_time": "2024-10-21T21:52:50.866331Z",
     "start_time": "2024-10-21T21:52:50.862465Z"
    }
   },
   "cell_type": "code",
   "source": [
    "for token in doc1:\n",
    "    print(token.text, '\\t', token.pos_, '\\t', token.lemma, '\\t', token.lemma_)"
   ],
   "id": "693502a4de555199",
   "outputs": [
    {
     "name": "stdout",
     "output_type": "stream",
     "text": [
      "I \t PRON \t 4690420944186131903 \t I\n",
      "am \t AUX \t 10382539506755952630 \t be\n",
      "a \t DET \t 11901859001352538922 \t a\n",
      "runner \t NOUN \t 12640964157389618806 \t runner\n",
      "running \t VERB \t 12767647472892411841 \t run\n",
      "in \t ADP \t 3002984154512732771 \t in\n",
      "a \t DET \t 11901859001352538922 \t a\n",
      "race \t NOUN \t 8048469955494714898 \t race\n",
      "because \t SCONJ \t 16950148841647037698 \t because\n",
      "I \t PRON \t 4690420944186131903 \t I\n",
      "love \t VERB \t 3702023516439754181 \t love\n",
      "to \t PART \t 3791531372978436496 \t to\n",
      "run \t VERB \t 12767647472892411841 \t run\n",
      "since \t SCONJ \t 10066841407251338481 \t since\n",
      "I \t PRON \t 4690420944186131903 \t I\n",
      "ran \t VERB \t 12767647472892411841 \t run\n",
      "today \t NOUN \t 11042482332948150395 \t today\n",
      ". \t PUNCT \t 12646065887601541794 \t .\n"
     ]
    }
   ],
   "execution_count": 8
  },
  {
   "metadata": {
    "ExecuteTime": {
     "end_time": "2024-10-21T22:11:58.313014Z",
     "start_time": "2024-10-21T22:11:58.309347Z"
    }
   },
   "cell_type": "code",
   "source": "print(nlp.Defaults.stop_words)",
   "id": "2a6193399f479e08",
   "outputs": [
    {
     "name": "stdout",
     "output_type": "stream",
     "text": [
      "{'beside', 'anywhere', 'herself', 'however', 'mostly', 'whoever', 'who', 'whereby', 'without', 'our', 'two', 'regarding', 'only', 'rather', 'others', 'just', 'during', 'whatever', 'whole', 'give', 'many', 'whereafter', 'against', 'but', 'everywhere', 'twelve', 'else', 'everything', 'show', 'him', 'another', 'go', 'neither', 'one', 'otherwise', 'wherever', 'towards', 'with', 'anyhow', 'anything', 'thereby', 'am', 'every', 'put', 'never', 'will', 'we', 'ten', 'top', 'anyone', '’s', 'my', 'off', '‘ll', 'your', 'thus', 'n’t', '’ll', '’d', 'now', 'full', 'about', 'all', 'has', 'therein', '’re', 'sometimes', 'therefore', 'being', 'side', 'than', 'cannot', 'he', 'whereas', 'them', 'thereupon', '‘m', 'sometime', 'ourselves', 'eleven', 'must', 'whereupon', 'for', 'been', 'first', 'too', 'nowhere', 'an', 'both', 'five', 'because', 'does', 'have', 'did', 'serious', 'beforehand', 'which', 'whenever', 'there', '’m', 'toward', 'out', '‘ve', 'n‘t', 'meanwhile', 'its', 'nothing', 'elsewhere', 'nevertheless', 'seeming', 'move', 'before', 'take', 'from', 'behind', 'quite', 'below', 'wherein', 'same', 'hundred', 'those', 'almost', 'doing', 'next', \"'ve\", 'hereupon', 'enough', 'something', 'made', '‘s', 'except', 'latter', 'seem', 'and', 'again', 'you', 'none', 'make', 'though', 'ca', 'above', 'keep', 'to', 'they', \"'s\", 'over', 'sixty', 'any', 'least', \"'m\", 'do', 'thru', 'fifty', 'down', 'here', 'eight', 'forty', 'besides', 'since', 'well', 'throughout', 'third', 'hereby', 'per', 'last', 'not', 'i', 'either', 'already', 'say', 'that', 'so', 'while', 'were', \"'ll\", 'such', 'using', 'less', 'most', 'six', 'empty', 'after', '’ve', 'this', 'between', 'around', 'perhaps', 'used', 'name', 'be', 'see', 'within', 'then', 'whence', 'yours', 'namely', 'much', 'may', 'really', 'ours', 'as', 'where', 'alone', 'anyway', 'hers', 'few', 'these', 'would', 'should', 'everyone', 'get', 'are', 'back', 'hereafter', 'fifteen', 'might', 'their', 'moreover', '‘d', 'amount', 'often', 're', 'upon', 'if', 'together', 'although', 'the', 'themselves', 'into', 'whose', 'someone', 'afterwards', 'seems', 'front', 'whom', 'thence', 'more', 'me', 'please', 'still', 'yet', 'latterly', 'bottom', 'until', 'along', 'thereafter', 'among', 'nobody', 'myself', 'once', 'three', 'own', 'she', 'herein', 'unless', 'several', 'was', 'could', 'indeed', 'somehow', 'through', \"'d\", 'beyond', 'across', 'former', 'becomes', 'call', 'what', 'nine', \"n't\", 'no', '‘re', 'ever', 'also', 'onto', 'by', 'yourselves', 'very', 'seemed', 'nor', 'even', 'due', 'some', 'part', 'a', 'it', 'her', 'in', 'whither', 'become', 'each', 'amongst', 'various', 'four', 'itself', 'had', 'his', 'yourself', 'up', 'when', 'is', 'formerly', 'why', 'under', 'can', 'via', 'us', \"'re\", 'on', 'how', 'of', 'mine', 'noone', 'twenty', 'or', 'became', 'done', 'at', 'becoming', 'hence', 'whether', 'further', 'himself', 'somewhere', 'always', 'other'}\n"
     ]
    }
   ],
   "execution_count": 10
  },
  {
   "metadata": {
    "ExecuteTime": {
     "end_time": "2024-10-21T22:12:08.068150Z",
     "start_time": "2024-10-21T22:12:08.064519Z"
    }
   },
   "cell_type": "code",
   "source": "len(nlp.Defaults.stop_words)",
   "id": "9da19a6384364842",
   "outputs": [
    {
     "data": {
      "text/plain": [
       "326"
      ]
     },
     "execution_count": 12,
     "metadata": {},
     "output_type": "execute_result"
    }
   ],
   "execution_count": 12
  },
  {
   "metadata": {
    "ExecuteTime": {
     "end_time": "2024-10-21T22:12:37.351592Z",
     "start_time": "2024-10-21T22:12:37.346916Z"
    }
   },
   "cell_type": "code",
   "source": "nlp.vocab['mystery'].is_stop",
   "id": "9e4ff05b6655fbd6",
   "outputs": [
    {
     "data": {
      "text/plain": [
       "False"
      ]
     },
     "execution_count": 16,
     "metadata": {},
     "output_type": "execute_result"
    }
   ],
   "execution_count": 16
  },
  {
   "metadata": {
    "ExecuteTime": {
     "end_time": "2024-10-21T22:17:32.609639Z",
     "start_time": "2024-10-21T22:17:32.605811Z"
    }
   },
   "cell_type": "code",
   "source": "len(nlp.vocab)",
   "id": "f1e1f318f4bf0f32",
   "outputs": [
    {
     "data": {
      "text/plain": [
       "776"
      ]
     },
     "execution_count": 17,
     "metadata": {},
     "output_type": "execute_result"
    }
   ],
   "execution_count": 17
  }
 ],
 "metadata": {
  "kernelspec": {
   "display_name": "Python 3",
   "language": "python",
   "name": "python3"
  },
  "language_info": {
   "codemirror_mode": {
    "name": "ipython",
    "version": 2
   },
   "file_extension": ".py",
   "mimetype": "text/x-python",
   "name": "python",
   "nbconvert_exporter": "python",
   "pygments_lexer": "ipython2",
   "version": "2.7.6"
  }
 },
 "nbformat": 4,
 "nbformat_minor": 5
}
