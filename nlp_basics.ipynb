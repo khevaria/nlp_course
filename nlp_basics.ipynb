{
 "cells": [
  {
   "cell_type": "code",
   "id": "initial_id",
   "metadata": {
    "collapsed": true,
    "ExecuteTime": {
     "end_time": "2024-10-21T21:13:01.039527Z",
     "start_time": "2024-10-21T21:12:59.107777Z"
    }
   },
   "source": [
    "import spacy\n",
    "nlp = spacy.load('en_core_web_lg')\n"
   ],
   "outputs": [],
   "execution_count": 41
  },
  {
   "metadata": {
    "ExecuteTime": {
     "end_time": "2024-10-21T20:41:18.969461Z",
     "start_time": "2024-10-21T20:41:18.960688Z"
    }
   },
   "cell_type": "code",
   "source": "doc = nlp(u\"Tesla is looking at buying U.S. startup for $6 million\")",
   "id": "f57a7c3f80e899f9",
   "outputs": [],
   "execution_count": 5
  },
  {
   "metadata": {
    "ExecuteTime": {
     "end_time": "2024-10-21T20:43:38.609398Z",
     "start_time": "2024-10-21T20:43:38.606075Z"
    }
   },
   "cell_type": "code",
   "source": [
    "for token in doc:\n",
    "    print(token.text,token.pos_,token.dep_)"
   ],
   "id": "19e025c9219bf061",
   "outputs": [
    {
     "name": "stdout",
     "output_type": "stream",
     "text": [
      "Tesla PROPN nsubj\n",
      "is AUX aux\n",
      "looking VERB ROOT\n",
      "at ADP prep\n",
      "buying VERB pcomp\n",
      "U.S. PROPN dobj\n",
      "startup VERB advcl\n",
      "for ADP prep\n",
      "$ SYM quantmod\n",
      "6 NUM compound\n",
      "million NUM pobj\n"
     ]
    }
   ],
   "execution_count": 10
  },
  {
   "metadata": {
    "ExecuteTime": {
     "end_time": "2024-10-21T20:46:08.290943Z",
     "start_time": "2024-10-21T20:46:08.285817Z"
    }
   },
   "cell_type": "code",
   "source": "nlp.pipe_names",
   "id": "c2cea97ab684215b",
   "outputs": [
    {
     "data": {
      "text/plain": [
       "['tok2vec', 'tagger', 'parser', 'attribute_ruler', 'lemmatizer', 'ner']"
      ]
     },
     "execution_count": 14,
     "metadata": {},
     "output_type": "execute_result"
    }
   ],
   "execution_count": 14
  },
  {
   "metadata": {
    "ExecuteTime": {
     "end_time": "2024-10-21T20:48:03.455603Z",
     "start_time": "2024-10-21T20:48:03.447102Z"
    }
   },
   "cell_type": "code",
   "source": "doc2 = nlp(u\"Tesla isn't looking into startups anymore.\")",
   "id": "3c140ceacba6e8bb",
   "outputs": [],
   "execution_count": 20
  },
  {
   "metadata": {
    "ExecuteTime": {
     "end_time": "2024-10-21T20:48:07.030818Z",
     "start_time": "2024-10-21T20:48:07.026262Z"
    }
   },
   "cell_type": "code",
   "source": [
    "for token in doc2:\n",
    "    print(token.text,token.pos_,token.dep_)"
   ],
   "id": "f7cedc41de2f0d7f",
   "outputs": [
    {
     "name": "stdout",
     "output_type": "stream",
     "text": [
      "Tesla PROPN nsubj\n",
      "is AUX aux\n",
      "n't PART neg\n",
      "looking VERB ROOT\n",
      "into ADP prep\n",
      "startups NOUN pobj\n",
      "anymore ADV advmod\n",
      ". PUNCT punct\n"
     ]
    }
   ],
   "execution_count": 22
  },
  {
   "metadata": {
    "ExecuteTime": {
     "end_time": "2024-10-21T20:58:17.396806Z",
     "start_time": "2024-10-21T20:58:17.392517Z"
    }
   },
   "cell_type": "code",
   "source": "print(doc2[3].text,doc2[3].lemma)",
   "id": "3d6d6c84c4b63266",
   "outputs": [
    {
     "name": "stdout",
     "output_type": "stream",
     "text": [
      "looking 16096726548953279178\n"
     ]
    }
   ],
   "execution_count": 26
  },
  {
   "metadata": {
    "ExecuteTime": {
     "end_time": "2024-10-21T21:06:49.700798Z",
     "start_time": "2024-10-21T21:06:49.697134Z"
    }
   },
   "cell_type": "code",
   "source": "mystring = '\"We\\'re moving to L.A.!\"'",
   "id": "9fceae874d5b5030",
   "outputs": [],
   "execution_count": 28
  },
  {
   "metadata": {
    "ExecuteTime": {
     "end_time": "2024-10-21T21:07:29.074007Z",
     "start_time": "2024-10-21T21:07:29.066694Z"
    }
   },
   "cell_type": "code",
   "source": "doc4 = nlp(mystring)",
   "id": "c3cabc77a5bbbaa3",
   "outputs": [],
   "execution_count": 31
  },
  {
   "metadata": {
    "ExecuteTime": {
     "end_time": "2024-10-21T21:07:54.498448Z",
     "start_time": "2024-10-21T21:07:54.494444Z"
    }
   },
   "cell_type": "code",
   "source": [
    "for token in doc4:\n",
    "    print(token.text,token.pos_,token.dep_)"
   ],
   "id": "b6b924835031e737",
   "outputs": [
    {
     "name": "stdout",
     "output_type": "stream",
     "text": [
      "\" PUNCT punct\n",
      "We PRON nsubj\n",
      "'re AUX aux\n",
      "moving VERB ROOT\n",
      "to ADP prep\n",
      "L.A. PROPN pobj\n",
      "! PUNCT punct\n",
      "\" PUNCT punct\n"
     ]
    }
   ],
   "execution_count": 33
  },
  {
   "metadata": {
    "ExecuteTime": {
     "end_time": "2024-10-21T21:09:39.854960Z",
     "start_time": "2024-10-21T21:09:39.845589Z"
    }
   },
   "cell_type": "code",
   "source": [
    "doc2 = nlp(u\"We're here to help! Send snail-mail, email support@oursite.com or visit us at http://www.oursite.com!\")\n",
    "\n",
    "for t in doc2:\n",
    "    print(t)"
   ],
   "id": "a2cb131fd6dce8f5",
   "outputs": [
    {
     "name": "stdout",
     "output_type": "stream",
     "text": [
      "We\n",
      "'re\n",
      "here\n",
      "to\n",
      "help\n",
      "!\n",
      "Send\n",
      "snail\n",
      "-\n",
      "mail\n",
      ",\n",
      "email\n",
      "support@oursite.com\n",
      "or\n",
      "visit\n",
      "us\n",
      "at\n",
      "http://www.oursite.com\n",
      "!\n"
     ]
    }
   ],
   "execution_count": 35
  },
  {
   "metadata": {
    "ExecuteTime": {
     "end_time": "2024-10-21T21:10:25.843820Z",
     "start_time": "2024-10-21T21:10:25.834856Z"
    }
   },
   "cell_type": "code",
   "source": [
    "doc3 = nlp(u'A 5km NYC cab ride costs $10.30')\n",
    "\n",
    "for t in doc3:\n",
    "    print(t)"
   ],
   "id": "9f7bda4a0e60cec4",
   "outputs": [
    {
     "name": "stdout",
     "output_type": "stream",
     "text": [
      "A\n",
      "5\n",
      "km\n",
      "NYC\n",
      "cab\n",
      "ride\n",
      "costs\n",
      "$\n",
      "10.30\n"
     ]
    }
   ],
   "execution_count": 38
  },
  {
   "metadata": {
    "ExecuteTime": {
     "end_time": "2024-10-21T21:13:19.288847Z",
     "start_time": "2024-10-21T21:13:19.279141Z"
    }
   },
   "cell_type": "code",
   "source": [
    "doc4 = nlp(u\"Let's visit St. Louis in the U.S. next year.\")\n",
    "\n",
    "for t in doc4:\n",
    "    print(t)"
   ],
   "id": "da4e83c77aa9209b",
   "outputs": [
    {
     "name": "stdout",
     "output_type": "stream",
     "text": [
      "Let\n",
      "'s\n",
      "visit\n",
      "St.\n",
      "Louis\n",
      "in\n",
      "the\n",
      "U.S.\n",
      "next\n",
      "year\n",
      ".\n"
     ]
    }
   ],
   "execution_count": 43
  },
  {
   "metadata": {
    "ExecuteTime": {
     "end_time": "2024-10-21T21:13:28.808883Z",
     "start_time": "2024-10-21T21:13:28.805264Z"
    }
   },
   "cell_type": "code",
   "source": "len(doc4.vocab)",
   "id": "dee95595d951e906",
   "outputs": [
    {
     "data": {
      "text/plain": [
       "771"
      ]
     },
     "execution_count": 44,
     "metadata": {},
     "output_type": "execute_result"
    }
   ],
   "execution_count": 44
  },
  {
   "metadata": {
    "ExecuteTime": {
     "end_time": "2024-10-21T21:13:52.565550Z",
     "start_time": "2024-10-21T21:13:52.562099Z"
    }
   },
   "cell_type": "code",
   "source": "len(doc4)",
   "id": "57472636a74c8422",
   "outputs": [
    {
     "data": {
      "text/plain": [
       "11"
      ]
     },
     "execution_count": 45,
     "metadata": {},
     "output_type": "execute_result"
    }
   ],
   "execution_count": 45
  },
  {
   "metadata": {
    "ExecuteTime": {
     "end_time": "2024-10-21T21:14:42.091290Z",
     "start_time": "2024-10-21T21:14:42.084053Z"
    }
   },
   "cell_type": "code",
   "source": "doc5 = nlp(u\"It is better to give than receive.\")",
   "id": "328d82b21a41c9d8",
   "outputs": [],
   "execution_count": 47
  },
  {
   "metadata": {
    "ExecuteTime": {
     "end_time": "2024-10-21T21:15:09.188647Z",
     "start_time": "2024-10-21T21:15:09.184100Z"
    }
   },
   "cell_type": "code",
   "source": "doc5[2:5]",
   "id": "eee8f42b169c327b",
   "outputs": [
    {
     "data": {
      "text/plain": [
       "better to give"
      ]
     },
     "execution_count": 51,
     "metadata": {},
     "output_type": "execute_result"
    }
   ],
   "execution_count": 51
  },
  {
   "metadata": {
    "ExecuteTime": {
     "end_time": "2024-10-21T21:18:24.508976Z",
     "start_time": "2024-10-21T21:18:24.499627Z"
    }
   },
   "cell_type": "code",
   "source": "doc8 = nlp(u\"Apple to build a Hong Kong factory for $6 million\")",
   "id": "d7a2387f4a896941",
   "outputs": [],
   "execution_count": 66
  },
  {
   "metadata": {
    "ExecuteTime": {
     "end_time": "2024-10-21T21:18:25.094290Z",
     "start_time": "2024-10-21T21:18:25.091350Z"
    }
   },
   "cell_type": "code",
   "source": [
    "for token in doc8:\n",
    "    print(token.text,end=' | ')"
   ],
   "id": "dc004778712faa62",
   "outputs": [
    {
     "name": "stdout",
     "output_type": "stream",
     "text": [
      "Apple | to | build | a | Hong | Kong | factory | for | $ | 6 | million | "
     ]
    }
   ],
   "execution_count": 67
  },
  {
   "metadata": {
    "ExecuteTime": {
     "end_time": "2024-10-21T21:18:44.342002Z",
     "start_time": "2024-10-21T21:18:44.339222Z"
    }
   },
   "cell_type": "code",
   "source": [
    "for entity in doc8.ents:\n",
    "    print(entity)\n",
    "    print(entity.label_)\n",
    "    print('\\n')"
   ],
   "id": "33dba5d3f607d835",
   "outputs": [
    {
     "name": "stdout",
     "output_type": "stream",
     "text": [
      "Apple\n",
      "ORG\n",
      "\n",
      "\n",
      "Hong Kong\n",
      "GPE\n",
      "\n",
      "\n",
      "$6 million\n",
      "MONEY\n",
      "\n",
      "\n"
     ]
    }
   ],
   "execution_count": 69
  }
 ],
 "metadata": {
  "kernelspec": {
   "display_name": "Python 3",
   "language": "python",
   "name": "python3"
  },
  "language_info": {
   "codemirror_mode": {
    "name": "ipython",
    "version": 2
   },
   "file_extension": ".py",
   "mimetype": "text/x-python",
   "name": "python",
   "nbconvert_exporter": "python",
   "pygments_lexer": "ipython2",
   "version": "2.7.6"
  }
 },
 "nbformat": 4,
 "nbformat_minor": 5
}
